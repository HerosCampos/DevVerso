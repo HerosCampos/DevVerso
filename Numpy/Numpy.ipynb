{
 "cells": [
  {
   "cell_type": "code",
   "execution_count": 157,
   "id": "56a4f7bc",
   "metadata": {},
   "outputs": [],
   "source": [
    "import numpy as np\n",
    "import time"
   ]
  },
  {
   "cell_type": "markdown",
   "id": "938a1c78",
   "metadata": {},
   "source": [
    "---"
   ]
  },
  {
   "cell_type": "markdown",
   "id": "0086f654",
   "metadata": {},
   "source": [
    "# Desempenho: Numpy x Python"
   ]
  },
  {
   "cell_type": "code",
   "execution_count": 158,
   "id": "c0d5cc79",
   "metadata": {},
   "outputs": [],
   "source": [
    "tamanho = 1000000"
   ]
  },
  {
   "cell_type": "code",
   "execution_count": 159,
   "id": "3c43cc63",
   "metadata": {},
   "outputs": [
    {
     "name": "stdout",
     "output_type": "stream",
     "text": [
      "[0, 1, 2, 3, 4, 5, 6, 7, 8, 9]\n",
      "[999990, 999991, 999992, 999993, 999994, 999995, 999996, 999997, 999998, 999999]\n"
     ]
    }
   ],
   "source": [
    "# Python\n",
    "\n",
    "lista_python = []\n",
    "lista_python = [x for x in range(tamanho)]\n",
    "print(lista_python[:10])\n",
    "print(lista_python[-10:])"
   ]
  },
  {
   "cell_type": "code",
   "execution_count": 77,
   "id": "d2805b5a",
   "metadata": {},
   "outputs": [
    {
     "data": {
      "text/plain": [
       "0.109375"
      ]
     },
     "execution_count": 77,
     "metadata": {},
     "output_type": "execute_result"
    }
   ],
   "source": [
    "tempo_inicio = time.process_time()\n",
    "lista_python_mult = [x * 99 for x in lista_python]\n",
    "tempo_final = time.process_time() - tempo_inicio\n",
    "tempo_final"
   ]
  },
  {
   "cell_type": "code",
   "execution_count": 78,
   "id": "c89d8c9a",
   "metadata": {},
   "outputs": [
    {
     "name": "stdout",
     "output_type": "stream",
     "text": [
      "[0, 99, 198, 297, 396, 495, 594, 693, 792, 891]\n",
      "[98999010, 98999109, 98999208, 98999307, 98999406, 98999505, 98999604, 98999703, 98999802, 98999901]\n"
     ]
    }
   ],
   "source": [
    "print(lista_python_mult[:10])\n",
    "print(lista_python_mult[-10:])"
   ]
  },
  {
   "cell_type": "code",
   "execution_count": 79,
   "id": "05bddf54",
   "metadata": {},
   "outputs": [
    {
     "name": "stdout",
     "output_type": "stream",
     "text": [
      "[0 1 2 3 4 5 6 7 8 9]\n",
      "[999990 999991 999992 999993 999994 999995 999996 999997 999998 999999]\n"
     ]
    }
   ],
   "source": [
    "# Numpy\n",
    "\n",
    "numpy_array = np.array(lista_python)\n",
    "print(numpy_array[:10])\n",
    "print(numpy_array[-10:])"
   ]
  },
  {
   "cell_type": "code",
   "execution_count": 93,
   "id": "c49bb42f",
   "metadata": {},
   "outputs": [
    {
     "name": "stdout",
     "output_type": "stream",
     "text": [
      "0.03125\n"
     ]
    }
   ],
   "source": [
    "tempo_inicio_np = time.process_time()\n",
    "numpy_array_mult = numpy_array * 99\n",
    "tempo_final_np = time.process_time() - tempo_inicio_np\n",
    "print(tempo_final_np)"
   ]
  },
  {
   "cell_type": "code",
   "execution_count": 94,
   "id": "995d1b43",
   "metadata": {},
   "outputs": [
    {
     "data": {
      "text/plain": [
       "3.5"
      ]
     },
     "execution_count": 94,
     "metadata": {},
     "output_type": "execute_result"
    }
   ],
   "source": [
    "tempo_final / tempo_final_np"
   ]
  },
  {
   "cell_type": "markdown",
   "id": "8984e002",
   "metadata": {},
   "source": [
    "---"
   ]
  },
  {
   "cell_type": "code",
   "execution_count": 113,
   "id": "8375c7a0",
   "metadata": {},
   "outputs": [
    {
     "data": {
      "text/plain": [
       "array([1, 2, 3])"
      ]
     },
     "execution_count": 113,
     "metadata": {},
     "output_type": "execute_result"
    }
   ],
   "source": [
    "# Criando um Array com Numpy\n",
    "\n",
    "lista = [1, 2, 3]\n",
    "np_array = np.array(lista)\n",
    "np_array"
   ]
  },
  {
   "cell_type": "code",
   "execution_count": 114,
   "id": "3a01f241",
   "metadata": {},
   "outputs": [
    {
     "data": {
      "text/plain": [
       "numpy.ndarray"
      ]
     },
     "execution_count": 114,
     "metadata": {},
     "output_type": "execute_result"
    }
   ],
   "source": [
    "# N-Dimensional Array\n",
    "type(np_array)"
   ]
  },
  {
   "cell_type": "code",
   "execution_count": 5,
   "id": "473bf5a7",
   "metadata": {},
   "outputs": [
    {
     "name": "stdout",
     "output_type": "stream",
     "text": [
      "[[1 2 3]\n",
      " [3 2 1]\n",
      " [2 1 3]]\n",
      "<class 'numpy.matrix'>\n",
      "-------------------------\n",
      "[[1 2 3]\n",
      " [3 2 1]\n",
      " [2 1 3]]\n",
      "<class 'numpy.ndarray'>\n"
     ]
    }
   ],
   "source": [
    "# Criando uma Matriz\n",
    "matriz = [[1, 2, 3], [3, 2, 1], [2, 1, 3]]\n",
    "\n",
    "print(np.matrix(matriz))\n",
    "print(type(np.matrix(matriz)))\n",
    "print('-------------------------')\n",
    "print(np.array(matriz))\n",
    "print(type(np.array(matriz)))"
   ]
  },
  {
   "cell_type": "markdown",
   "id": "ed40a3ae",
   "metadata": {},
   "source": [
    "### Arrays e suas dimensões"
   ]
  },
  {
   "cell_type": "code",
   "execution_count": 6,
   "id": "dd9609fb",
   "metadata": {},
   "outputs": [
    {
     "data": {
      "text/plain": [
       "array([1, 2, 3])"
      ]
     },
     "execution_count": 6,
     "metadata": {},
     "output_type": "execute_result"
    }
   ],
   "source": [
    "# 1 dimensão\n",
    "np.array([1, 2, 3])"
   ]
  },
  {
   "cell_type": "code",
   "execution_count": 7,
   "id": "48a74694",
   "metadata": {},
   "outputs": [
    {
     "data": {
      "text/plain": [
       "array([[1, 2, 3],\n",
       "       [4, 5, 6]])"
      ]
     },
     "execution_count": 7,
     "metadata": {},
     "output_type": "execute_result"
    }
   ],
   "source": [
    "# 2 dimensões\n",
    "np.array([[1, 2, 3], [4, 5, 6]])"
   ]
  },
  {
   "cell_type": "code",
   "execution_count": 8,
   "id": "4928d06c",
   "metadata": {},
   "outputs": [
    {
     "data": {
      "text/plain": [
       "array([[[ 1,  2,  3],\n",
       "        [ 4,  5,  6],\n",
       "        [ 7,  8,  9]],\n",
       "\n",
       "       [[10, 11, 12],\n",
       "        [13, 14, 15],\n",
       "        [16, 17, 18]]])"
      ]
     },
     "execution_count": 8,
     "metadata": {},
     "output_type": "execute_result"
    }
   ],
   "source": [
    "# 3 dimensões\n",
    "np.array([[[1, 2, 3], [4, 5, 6], [7, 8, 9]],\n",
    "         [[10, 11, 12], [13, 14, 15], [16, 17, 18]]])"
   ]
  },
  {
   "cell_type": "markdown",
   "id": "a4a360ea",
   "metadata": {},
   "source": [
    "### Criando Arrays utilizando range()"
   ]
  },
  {
   "cell_type": "code",
   "execution_count": 116,
   "id": "9ee0da61",
   "metadata": {},
   "outputs": [
    {
     "name": "stdout",
     "output_type": "stream",
     "text": [
      "[0, 1, 2, 3, 4, 5, 6, 7, 8]\n",
      "<class 'list'>\n"
     ]
    }
   ],
   "source": [
    "# Listas do Python\n",
    "lista_range = list(range(9))\n",
    "\n",
    "print(lista_range)\n",
    "print(type(lista_range))"
   ]
  },
  {
   "cell_type": "code",
   "execution_count": 10,
   "id": "d806397c",
   "metadata": {},
   "outputs": [
    {
     "name": "stdout",
     "output_type": "stream",
     "text": [
      "[0 1 2 3 4 5 6 7 8]\n",
      "<class 'numpy.ndarray'>\n"
     ]
    }
   ],
   "source": [
    "# Array do Numpy\n",
    "array_range = np.array(range(9))\n",
    "\n",
    "print(array_range)\n",
    "print(type(array_range))"
   ]
  },
  {
   "cell_type": "code",
   "execution_count": 124,
   "id": "6abd0d90",
   "metadata": {},
   "outputs": [
    {
     "name": "stdout",
     "output_type": "stream",
     "text": [
      "[ 1  3  5  7  9 11 13 15 17 19 21 23 25 27 29 31 33 35 37 39 41 43 45 47\n",
      " 49 51 53 55 57 59 61 63 65 67 69 71 73 75 77 79 81 83 85 87 89 91 93 95\n",
      " 97 99]\n",
      "<class 'numpy.ndarray'>\n"
     ]
    }
   ],
   "source": [
    "# Array do Numpy com intervalo estabelecido\n",
    "array_intervalado = np.arange(1, 100, 2)\n",
    "\n",
    "print(array_intervalado)\n",
    "print(type(array_intervalado))"
   ]
  },
  {
   "cell_type": "code",
   "execution_count": 12,
   "id": "9d56d37b",
   "metadata": {},
   "outputs": [
    {
     "name": "stdout",
     "output_type": "stream",
     "text": [
      "[0. 0. 0. 0. 0.]\n",
      "<class 'numpy.ndarray'>\n",
      "----------------------------\n",
      "0.0\n",
      "<class 'numpy.float64'>\n",
      "----------------------------\n",
      "[[0. 0. 0.]\n",
      " [0. 0. 0.]\n",
      " [0. 0. 0.]]\n",
      "<class 'numpy.ndarray'>\n"
     ]
    }
   ],
   "source": [
    "# Array do Numpy utilizando o número 0\n",
    "array_zeros = np.zeros(5)\n",
    "print(array_zeros)\n",
    "print(type(array_zeros))\n",
    "\n",
    "print('----------------------------')\n",
    "\n",
    "# Verificando qual é o tipo dos números dentro do Array\n",
    "print(array_zeros[0])\n",
    "print(type(array_zeros[0]))\n",
    "\n",
    "print('----------------------------')\n",
    "\n",
    "# Criando Matrizes com Numpy com o número 0\n",
    "matriz_zeros = np.zeros((3, 3))\n",
    "print(matriz_zeros)\n",
    "print(type(matriz_zeros))"
   ]
  },
  {
   "cell_type": "code",
   "execution_count": 13,
   "id": "d2d562b9",
   "metadata": {},
   "outputs": [
    {
     "name": "stdout",
     "output_type": "stream",
     "text": [
      "[1. 1. 1. 1. 1. 1.]\n",
      "<class 'numpy.ndarray'>\n",
      "----------------------------\n",
      "[[1. 1. 1. 1.]\n",
      " [1. 1. 1. 1.]\n",
      " [1. 1. 1. 1.]]\n",
      "<class 'numpy.ndarray'>\n",
      "1.0\n"
     ]
    }
   ],
   "source": [
    "# Arrays do Numpy utilizando o número 1\n",
    "array_um = np.ones(6)\n",
    "\n",
    "print(array_um)\n",
    "print(type(array_um))\n",
    "\n",
    "print('----------------------------')\n",
    "\n",
    "# Criando Matrizes com Numpy com o número 0\n",
    "matriz_um = np.ones((3, 4))\n",
    "print(matriz_um)\n",
    "print(type(matriz_um))\n",
    "print(matriz_um[0, 2])"
   ]
  },
  {
   "cell_type": "markdown",
   "id": "10c0e11f",
   "metadata": {},
   "source": [
    "### Criando Arrays utilizando linspace()"
   ]
  },
  {
   "cell_type": "code",
   "execution_count": 103,
   "id": "f3f11f1e",
   "metadata": {},
   "outputs": [
    {
     "data": {
      "text/plain": [
       "array([ 1.        ,  1.64285714,  2.28571429,  2.92857143,  3.57142857,\n",
       "        4.21428571,  4.85714286,  5.5       ,  6.14285714,  6.78571429,\n",
       "        7.42857143,  8.07142857,  8.71428571,  9.35714286, 10.        ])"
      ]
     },
     "execution_count": 103,
     "metadata": {},
     "output_type": "execute_result"
    }
   ],
   "source": [
    "# Arrays com linspace()\n",
    "np.linspace(1, 10, 15)"
   ]
  },
  {
   "cell_type": "markdown",
   "id": "b131e68a",
   "metadata": {},
   "source": [
    "### Matrizes Identidade"
   ]
  },
  {
   "cell_type": "code",
   "execution_count": 15,
   "id": "f5318c57",
   "metadata": {},
   "outputs": [
    {
     "data": {
      "text/plain": [
       "array([[1., 0., 0., 0.],\n",
       "       [0., 1., 0., 0.],\n",
       "       [0., 0., 1., 0.],\n",
       "       [0., 0., 0., 1.]])"
      ]
     },
     "execution_count": 15,
     "metadata": {},
     "output_type": "execute_result"
    }
   ],
   "source": [
    "np.eye(4)"
   ]
  },
  {
   "cell_type": "markdown",
   "id": "3ebc0c96",
   "metadata": {},
   "source": [
    "### Criando Arrays com determinada forma e valores aleatórios"
   ]
  },
  {
   "cell_type": "code",
   "execution_count": 133,
   "id": "34659bda",
   "metadata": {},
   "outputs": [
    {
     "data": {
      "text/plain": [
       "array([0.89915849, 0.04567777, 0.71857592])"
      ]
     },
     "execution_count": 133,
     "metadata": {},
     "output_type": "execute_result"
    }
   ],
   "source": [
    "# Array com números aleatórios entre 0 e 1\n",
    "np.random.rand(3)"
   ]
  },
  {
   "cell_type": "code",
   "execution_count": 135,
   "id": "1c592547",
   "metadata": {},
   "outputs": [
    {
     "data": {
      "text/plain": [
       "array([[0.96931874, 0.22349373, 0.20041451, 0.2052522 ],\n",
       "       [0.9195253 , 0.01906233, 0.23637168, 0.83979822],\n",
       "       [0.87141144, 0.1391494 , 0.82243781, 0.90659137]])"
      ]
     },
     "execution_count": 135,
     "metadata": {},
     "output_type": "execute_result"
    }
   ],
   "source": [
    "# Matriz com números aleatórios entre 0 e 1\n",
    "np.random.rand(3,4)"
   ]
  },
  {
   "cell_type": "code",
   "execution_count": 18,
   "id": "276b3108",
   "metadata": {},
   "outputs": [
    {
     "data": {
      "text/plain": [
       "array([[0.12912382, 0.05850817, 0.53418386],\n",
       "       [0.37515338, 0.47742372, 0.97231925],\n",
       "       [0.43068635, 0.94892604, 0.83830592]])"
      ]
     },
     "execution_count": 18,
     "metadata": {},
     "output_type": "execute_result"
    }
   ],
   "source": [
    "# Array com números aleatórios entre 0 e 1\n",
    "np.random.random((3, 3))"
   ]
  },
  {
   "cell_type": "code",
   "execution_count": 139,
   "id": "718a1b8b",
   "metadata": {},
   "outputs": [
    {
     "data": {
      "text/plain": [
       "array([-0.14291182, -0.68626335,  2.21108046, -0.43395506, -0.64800952,\n",
       "       -0.62779023, -0.07815792, -0.142069  , -0.75682694, -0.85526432])"
      ]
     },
     "execution_count": 139,
     "metadata": {},
     "output_type": "execute_result"
    }
   ],
   "source": [
    "# Array com números aleatórios (Distribuição Normal - Gaussiana)\n",
    "np.random.randn(10)\n",
    "\n",
    "# Média de 0 e desvio padrão de 1"
   ]
  },
  {
   "cell_type": "code",
   "execution_count": 110,
   "id": "a88c9cb7",
   "metadata": {},
   "outputs": [
    {
     "data": {
      "text/plain": [
       "array([[ 0.18494991, -0.85784148, -0.69470006],\n",
       "       [-1.41559112, -0.98343977,  1.36212512],\n",
       "       [ 1.13672051,  0.10911294,  0.08371962]])"
      ]
     },
     "execution_count": 110,
     "metadata": {},
     "output_type": "execute_result"
    }
   ],
   "source": [
    "# Matriz com números aleatórios (Distribuição Normal - Gaussiana)\n",
    "np.random.randn(3, 3)"
   ]
  },
  {
   "cell_type": "code",
   "execution_count": 21,
   "id": "5d433eba",
   "metadata": {},
   "outputs": [
    {
     "data": {
      "text/plain": [
       "array([[10, 24,  3],\n",
       "       [24,  8,  0],\n",
       "       [21, 19, 10]])"
      ]
     },
     "execution_count": 21,
     "metadata": {},
     "output_type": "execute_result"
    }
   ],
   "source": [
    "# Pseudo números aleatórios\n",
    "np.random.seed(3) \n",
    "# colocando o seed eu consigo compartilhar meu notebook que os valores aleatórios de quem for testar serão os mesmos\n",
    "\n",
    "np.random.randint(25, size=(3, 3))"
   ]
  },
  {
   "cell_type": "markdown",
   "id": "7d974311",
   "metadata": {},
   "source": [
    "### Números aleatórios entre intervalo estabelecido"
   ]
  },
  {
   "cell_type": "code",
   "execution_count": 22,
   "id": "75f2f638",
   "metadata": {},
   "outputs": [
    {
     "data": {
      "text/plain": [
       "array([26, 24, 24, 25, 20])"
      ]
     },
     "execution_count": 22,
     "metadata": {},
     "output_type": "execute_result"
    }
   ],
   "source": [
    "np.random.randint(15, 30, 5)"
   ]
  },
  {
   "cell_type": "markdown",
   "id": "3b195191",
   "metadata": {},
   "source": [
    "### Alterando a forma dos Arrays"
   ]
  },
  {
   "cell_type": "code",
   "execution_count": 23,
   "id": "1f3adea8",
   "metadata": {},
   "outputs": [
    {
     "data": {
      "text/plain": [
       "array([ 0,  1,  2,  3,  4,  5,  6,  7,  8,  9, 10, 11, 12, 13, 14])"
      ]
     },
     "execution_count": 23,
     "metadata": {},
     "output_type": "execute_result"
    }
   ],
   "source": [
    "array_normal = np.arange(15)\n",
    "array_normal"
   ]
  },
  {
   "cell_type": "code",
   "execution_count": 24,
   "id": "2336c65c",
   "metadata": {},
   "outputs": [
    {
     "data": {
      "text/plain": [
       "array([[ 0,  1,  2,  3,  4],\n",
       "       [ 5,  6,  7,  8,  9],\n",
       "       [10, 11, 12, 13, 14]])"
      ]
     },
     "execution_count": 24,
     "metadata": {},
     "output_type": "execute_result"
    }
   ],
   "source": [
    "array_normal.reshape(3, 5)"
   ]
  },
  {
   "cell_type": "code",
   "execution_count": 25,
   "id": "e53d0fb2",
   "metadata": {},
   "outputs": [
    {
     "name": "stdout",
     "output_type": "stream",
     "text": [
      "Antes:\n",
      "[39 97 21 45 94 40 15 27 82 91 23 67  3 64 61  2 52 91 70 98]\n",
      "\n",
      "Depois: \n",
      "[[39 97 21 45 94]\n",
      " [40 15 27 82 91]\n",
      " [23 67  3 64 61]\n",
      " [ 2 52 91 70 98]]\n",
      "\n",
      "Mais uma opção:\n",
      "[[30 25 63  8 44]\n",
      " [34 80 49 38 21]\n",
      " [95 50 22 79 29]\n",
      " [55  1 65 19 64]]\n"
     ]
    }
   ],
   "source": [
    "array_rand = np.random.randint(1, 100, 20)\n",
    "print(f\"\"\"Antes:\n",
    "{array_rand}\n",
    "\n",
    "Depois: \n",
    "{array_rand.reshape(4, 5)}\n",
    "\n",
    "Mais uma opção:\n",
    "{np.random.randint(1, 100, size=(4, 5))}\"\"\")"
   ]
  },
  {
   "cell_type": "code",
   "execution_count": 26,
   "id": "7733bf2f",
   "metadata": {},
   "outputs": [
    {
     "name": "stdout",
     "output_type": "stream",
     "text": [
      "O maior número é: 98\n",
      "Está localizado na posição: 19\n"
     ]
    }
   ],
   "source": [
    "# Para pegar o maior número dentro de um Array\n",
    "print(f'O maior número é: {array_rand.max()}\\nEstá localizado na posição: {array_rand.argmax()}')"
   ]
  },
  {
   "cell_type": "code",
   "execution_count": 27,
   "id": "fed62250",
   "metadata": {},
   "outputs": [
    {
     "name": "stdout",
     "output_type": "stream",
     "text": [
      "O menor número é: 2\n",
      "Está localizado na posição: 15\n"
     ]
    }
   ],
   "source": [
    "# Para pegar o menor número dentro de um Array\n",
    "print(f'O menor número é: {array_rand.min()}\\nEstá localizado na posição: {array_rand.argmin()}')"
   ]
  },
  {
   "cell_type": "code",
   "execution_count": 28,
   "id": "3a28fb70",
   "metadata": {},
   "outputs": [
    {
     "name": "stdout",
     "output_type": "stream",
     "text": [
      "[[39 97 21 45 94]\n",
      " [40 15 27 82 91]\n",
      " [23 67  3 64 61]\n",
      " [ 2 52 91 70 98]]\n",
      "\n",
      "Para colocar em ordem crescente por linha:\n",
      "[[21 39 45 94 97]\n",
      " [15 27 40 82 91]\n",
      " [ 3 23 61 64 67]\n",
      " [ 2 52 70 91 98]]\n",
      "\n",
      "Shape: (4, 5)\n",
      "\n",
      "Para inverter a ordem do array:\n",
      "[[ 2 52 91 70 98]\n",
      " [23 67  3 64 61]\n",
      " [40 15 27 82 91]\n",
      " [39 97 21 45 94]]\n"
     ]
    }
   ],
   "source": [
    "# Para colocar o array em ordem crescente\n",
    "cres = array_rand.reshape(4, 5)\n",
    "\n",
    "print(cres)\n",
    "print()\n",
    "\n",
    "print(\"Para colocar em ordem crescente por linha:\")\n",
    "print(np.sort(cres))\n",
    "print(f\"\\nShape: {cres.shape}\")\n",
    "\n",
    "print(\"\\nPara inverter a ordem do array:\")\n",
    "print(cres[::-1])"
   ]
  },
  {
   "cell_type": "markdown",
   "id": "b53e23cd",
   "metadata": {},
   "source": [
    "---"
   ]
  },
  {
   "cell_type": "markdown",
   "id": "9c241cf6",
   "metadata": {},
   "source": [
    "### Indexing"
   ]
  },
  {
   "cell_type": "code",
   "execution_count": 29,
   "id": "a1d0be85",
   "metadata": {},
   "outputs": [
    {
     "data": {
      "text/plain": [
       "array([ 0,  1,  2,  3,  4,  5,  6,  7,  8,  9, 10, 11, 12, 13, 14, 15, 16,\n",
       "       17, 18, 19, 20])"
      ]
     },
     "execution_count": 29,
     "metadata": {},
     "output_type": "execute_result"
    }
   ],
   "source": [
    "indexing = np.arange(0, 21)\n",
    "indexing"
   ]
  },
  {
   "cell_type": "code",
   "execution_count": 30,
   "id": "bdbbf2bb",
   "metadata": {},
   "outputs": [
    {
     "data": {
      "text/plain": [
       "array([ 0,  1,  2,  3,  4,  5,  6,  7,  8,  9, 10])"
      ]
     },
     "execution_count": 30,
     "metadata": {},
     "output_type": "execute_result"
    }
   ],
   "source": [
    "parte_indexing = indexing[:11].copy()\n",
    "parte_indexing"
   ]
  },
  {
   "cell_type": "code",
   "execution_count": 31,
   "id": "46fbefdc",
   "metadata": {},
   "outputs": [],
   "source": [
    "parte_indexing[:] = 111"
   ]
  },
  {
   "cell_type": "code",
   "execution_count": 32,
   "id": "3ddb8efb",
   "metadata": {},
   "outputs": [
    {
     "data": {
      "text/plain": [
       "array([111, 111, 111, 111, 111, 111, 111, 111, 111, 111, 111])"
      ]
     },
     "execution_count": 32,
     "metadata": {},
     "output_type": "execute_result"
    }
   ],
   "source": [
    "parte_indexing"
   ]
  },
  {
   "cell_type": "code",
   "execution_count": 33,
   "id": "a856684c",
   "metadata": {},
   "outputs": [
    {
     "data": {
      "text/plain": [
       "array([ 0,  1,  2,  3,  4,  5,  6,  7,  8,  9, 10, 11, 12, 13, 14, 15, 16,\n",
       "       17, 18, 19, 20])"
      ]
     },
     "execution_count": 33,
     "metadata": {},
     "output_type": "execute_result"
    }
   ],
   "source": [
    "indexing"
   ]
  },
  {
   "cell_type": "code",
   "execution_count": 34,
   "id": "04955340",
   "metadata": {},
   "outputs": [
    {
     "data": {
      "text/plain": [
       "array([[1, 2, 3],\n",
       "       [4, 5, 6],\n",
       "       [7, 8, 9]])"
      ]
     },
     "execution_count": 34,
     "metadata": {},
     "output_type": "execute_result"
    }
   ],
   "source": [
    "# Indexing com Array 2D\n",
    "array_2d = np.array([[1, 2, 3], [4, 5, 6], [7, 8, 9]])\n",
    "array_2d"
   ]
  },
  {
   "cell_type": "code",
   "execution_count": 35,
   "id": "ce34030d",
   "metadata": {},
   "outputs": [
    {
     "data": {
      "text/plain": [
       "array([[1, 2],\n",
       "       [4, 5]])"
      ]
     },
     "execution_count": 35,
     "metadata": {},
     "output_type": "execute_result"
    }
   ],
   "source": [
    "array_2d[:2, :2]"
   ]
  },
  {
   "cell_type": "markdown",
   "id": "6b5107d2",
   "metadata": {},
   "source": [
    "### Seleção condicional"
   ]
  },
  {
   "cell_type": "code",
   "execution_count": 36,
   "id": "c8e35d13",
   "metadata": {},
   "outputs": [
    {
     "data": {
      "text/plain": [
       "array([[False, False, False],\n",
       "       [ True,  True,  True],\n",
       "       [ True,  True,  True]])"
      ]
     },
     "execution_count": 36,
     "metadata": {},
     "output_type": "execute_result"
    }
   ],
   "source": [
    "# Retornando valores tipo bool em uma Matriz\n",
    "array_2d > 3"
   ]
  },
  {
   "cell_type": "code",
   "execution_count": 37,
   "id": "0815d088",
   "metadata": {},
   "outputs": [
    {
     "data": {
      "text/plain": [
       "array([False, False, False, False, False, False, False, False, False,\n",
       "       False,  True,  True,  True,  True,  True,  True,  True,  True,\n",
       "        True,  True,  True])"
      ]
     },
     "execution_count": 37,
     "metadata": {},
     "output_type": "execute_result"
    }
   ],
   "source": [
    "# Retornando valores tipo bool em um Array tradicional\n",
    "indexing >= 10"
   ]
  },
  {
   "cell_type": "code",
   "execution_count": 38,
   "id": "80b62461",
   "metadata": {},
   "outputs": [
    {
     "data": {
      "text/plain": [
       "array([0, 1, 2, 3])"
      ]
     },
     "execution_count": 38,
     "metadata": {},
     "output_type": "execute_result"
    }
   ],
   "source": [
    "# Retornando os valores numéricos com seleção condicional\n",
    "indexing[indexing < 4]"
   ]
  },
  {
   "cell_type": "markdown",
   "id": "db9a6cd1",
   "metadata": {},
   "source": [
    "### Encontrando valores únicos em uma Matriz/Array"
   ]
  },
  {
   "cell_type": "code",
   "execution_count": 39,
   "id": "5d722bda",
   "metadata": {},
   "outputs": [
    {
     "data": {
      "text/plain": [
       "array([1, 2, 3, 4, 5, 6, 7, 8, 9])"
      ]
     },
     "execution_count": 39,
     "metadata": {},
     "output_type": "execute_result"
    }
   ],
   "source": [
    "np.unique(array_2d)"
   ]
  },
  {
   "cell_type": "code",
   "execution_count": 40,
   "id": "2ead3f0a",
   "metadata": {},
   "outputs": [
    {
     "data": {
      "text/plain": [
       "array([111])"
      ]
     },
     "execution_count": 40,
     "metadata": {},
     "output_type": "execute_result"
    }
   ],
   "source": [
    "np.unique(parte_indexing)"
   ]
  },
  {
   "cell_type": "markdown",
   "id": "08d3a164",
   "metadata": {},
   "source": [
    "### Cálculos com Arrays"
   ]
  },
  {
   "cell_type": "code",
   "execution_count": 41,
   "id": "355de8a3",
   "metadata": {},
   "outputs": [
    {
     "data": {
      "text/plain": [
       "array([5, 8, 8, 7, 5])"
      ]
     },
     "execution_count": 41,
     "metadata": {},
     "output_type": "execute_result"
    }
   ],
   "source": [
    "mat_1 = np.random.randint(0, 15, 5)\n",
    "mat_1"
   ]
  },
  {
   "cell_type": "code",
   "execution_count": 42,
   "id": "87bd0286",
   "metadata": {},
   "outputs": [
    {
     "data": {
      "text/plain": [
       "array([1., 1., 1., 1., 1.])"
      ]
     },
     "execution_count": 42,
     "metadata": {},
     "output_type": "execute_result"
    }
   ],
   "source": [
    "uns = np.ones(5)\n",
    "uns"
   ]
  },
  {
   "cell_type": "code",
   "execution_count": 43,
   "id": "2e54feab",
   "metadata": {},
   "outputs": [
    {
     "data": {
      "text/plain": [
       "array([6., 9., 9., 8., 6.])"
      ]
     },
     "execution_count": 43,
     "metadata": {},
     "output_type": "execute_result"
    }
   ],
   "source": [
    "# Soma\n",
    "mat_1 + uns"
   ]
  },
  {
   "cell_type": "code",
   "execution_count": 44,
   "id": "efdecfd2",
   "metadata": {},
   "outputs": [
    {
     "data": {
      "text/plain": [
       "array([0.2       , 0.125     , 0.125     , 0.14285714, 0.2       ])"
      ]
     },
     "execution_count": 44,
     "metadata": {},
     "output_type": "execute_result"
    }
   ],
   "source": [
    "# Divisão\n",
    "uns / mat_1"
   ]
  },
  {
   "cell_type": "code",
   "execution_count": 45,
   "id": "894ea004",
   "metadata": {},
   "outputs": [
    {
     "data": {
      "text/plain": [
       "array([15, 24, 24, 21, 15])"
      ]
     },
     "execution_count": 45,
     "metadata": {},
     "output_type": "execute_result"
    }
   ],
   "source": [
    "# Multiplicação\n",
    "mat_1 * 3"
   ]
  },
  {
   "cell_type": "code",
   "execution_count": 46,
   "id": "3015db73",
   "metadata": {},
   "outputs": [
    {
     "data": {
      "text/plain": [
       "array([0, 3, 3, 2, 0])"
      ]
     },
     "execution_count": 46,
     "metadata": {},
     "output_type": "execute_result"
    }
   ],
   "source": [
    "# Subtração\n",
    "mat_1 - 5"
   ]
  },
  {
   "cell_type": "code",
   "execution_count": 47,
   "id": "436c422f",
   "metadata": {},
   "outputs": [
    {
     "data": {
      "text/plain": [
       "array([25, 64, 64, 49, 25], dtype=int32)"
      ]
     },
     "execution_count": 47,
     "metadata": {},
     "output_type": "execute_result"
    }
   ],
   "source": [
    "# Potenciação\n",
    "mat_1 ** 2"
   ]
  },
  {
   "cell_type": "code",
   "execution_count": 48,
   "id": "02c0ac26",
   "metadata": {},
   "outputs": [
    {
     "data": {
      "text/plain": [
       "6.6"
      ]
     },
     "execution_count": 48,
     "metadata": {},
     "output_type": "execute_result"
    }
   ],
   "source": [
    "# Média\n",
    "np.mean(mat_1)"
   ]
  },
  {
   "cell_type": "code",
   "execution_count": 49,
   "id": "e85eb5c5",
   "metadata": {},
   "outputs": [
    {
     "data": {
      "text/plain": [
       "8"
      ]
     },
     "execution_count": 49,
     "metadata": {},
     "output_type": "execute_result"
    }
   ],
   "source": [
    "# Maior número\n",
    "np.max(mat_1)"
   ]
  },
  {
   "cell_type": "code",
   "execution_count": 50,
   "id": "4371fc1f",
   "metadata": {},
   "outputs": [
    {
     "data": {
      "text/plain": [
       "5"
      ]
     },
     "execution_count": 50,
     "metadata": {},
     "output_type": "execute_result"
    }
   ],
   "source": [
    "# Menor número\n",
    "np.min(mat_1)"
   ]
  },
  {
   "cell_type": "code",
   "execution_count": 51,
   "id": "7ca69e22",
   "metadata": {},
   "outputs": [
    {
     "data": {
      "text/plain": [
       "array([-0.95892427,  0.98935825,  0.98935825,  0.6569866 , -0.95892427])"
      ]
     },
     "execution_count": 51,
     "metadata": {},
     "output_type": "execute_result"
    }
   ],
   "source": [
    "# Seno\n",
    "np.sin(mat_1)"
   ]
  },
  {
   "cell_type": "code",
   "execution_count": 52,
   "id": "bfc517db",
   "metadata": {},
   "outputs": [
    {
     "data": {
      "text/plain": [
       "array([ 0.28366219, -0.14550003, -0.14550003,  0.75390225,  0.28366219])"
      ]
     },
     "execution_count": 52,
     "metadata": {},
     "output_type": "execute_result"
    }
   ],
   "source": [
    "# Cosseno\n",
    "np.cos(mat_1)"
   ]
  },
  {
   "cell_type": "code",
   "execution_count": 53,
   "id": "6ad1d96b",
   "metadata": {},
   "outputs": [
    {
     "data": {
      "text/plain": [
       "array([-3.38051501, -6.79971146, -6.79971146,  0.87144798, -3.38051501])"
      ]
     },
     "execution_count": 53,
     "metadata": {},
     "output_type": "execute_result"
    }
   ],
   "source": [
    "# Tangente\n",
    "np.tan(mat_1)"
   ]
  },
  {
   "cell_type": "markdown",
   "id": "93628582",
   "metadata": {},
   "source": [
    "### Desvio Padrão e Variância\n",
    "\n",
    "**Variância:** é útil para determinar o afastamento da média que os dados de um conjunto analisado apresentam. \n",
    "Para isso, Determina-se o valor médio das diferenças quadradas da média.\n",
    "\n",
    "**Desvio Padrão:** é calculado a partir da variância, pois é raiz quadrada desse parâmetro.\n",
    "\n",
    "**Fonte:** *https://www.todamateria.com.br/variancia-e-desvio-padrao/*"
   ]
  },
  {
   "cell_type": "code",
   "execution_count": 54,
   "id": "6e196ad2",
   "metadata": {},
   "outputs": [
    {
     "data": {
      "text/plain": [
       "1.8399999999999999"
      ]
     },
     "execution_count": 54,
     "metadata": {},
     "output_type": "execute_result"
    }
   ],
   "source": [
    "# Variância\n",
    "\n",
    "np.var(mat_1)"
   ]
  },
  {
   "cell_type": "code",
   "execution_count": 55,
   "id": "8d309c19",
   "metadata": {},
   "outputs": [
    {
     "data": {
      "text/plain": [
       "1.3564659966250536"
      ]
     },
     "execution_count": 55,
     "metadata": {},
     "output_type": "execute_result"
    }
   ],
   "source": [
    "# Desvio Padrão\n",
    "np.std(mat_1)"
   ]
  },
  {
   "cell_type": "code",
   "execution_count": 56,
   "id": "d292775f",
   "metadata": {},
   "outputs": [
    {
     "data": {
      "text/plain": [
       "1.3564659966250536"
      ]
     },
     "execution_count": 56,
     "metadata": {},
     "output_type": "execute_result"
    }
   ],
   "source": [
    "# Tirando a raiz quadrada da Variância para conferir se o valor do desvio padrão está correto\n",
    "np.sqrt(np.var(mat_1))"
   ]
  },
  {
   "cell_type": "code",
   "execution_count": null,
   "id": "821d177d",
   "metadata": {},
   "outputs": [],
   "source": []
  },
  {
   "cell_type": "code",
   "execution_count": null,
   "id": "179c42d6",
   "metadata": {},
   "outputs": [],
   "source": []
  },
  {
   "cell_type": "code",
   "execution_count": null,
   "id": "be56b985",
   "metadata": {},
   "outputs": [],
   "source": []
  },
  {
   "cell_type": "code",
   "execution_count": null,
   "id": "ae5dd948",
   "metadata": {},
   "outputs": [],
   "source": []
  },
  {
   "cell_type": "code",
   "execution_count": null,
   "id": "43466fde",
   "metadata": {},
   "outputs": [],
   "source": []
  },
  {
   "cell_type": "code",
   "execution_count": null,
   "id": "f8b0d3e0",
   "metadata": {},
   "outputs": [],
   "source": []
  },
  {
   "cell_type": "code",
   "execution_count": null,
   "id": "e232398d",
   "metadata": {},
   "outputs": [],
   "source": []
  },
  {
   "cell_type": "code",
   "execution_count": null,
   "id": "b774bf2a",
   "metadata": {},
   "outputs": [],
   "source": []
  },
  {
   "cell_type": "code",
   "execution_count": null,
   "id": "5f5ecc9b",
   "metadata": {},
   "outputs": [],
   "source": []
  },
  {
   "cell_type": "code",
   "execution_count": null,
   "id": "f86a7d33",
   "metadata": {},
   "outputs": [],
   "source": []
  },
  {
   "cell_type": "code",
   "execution_count": null,
   "id": "64113b9a",
   "metadata": {},
   "outputs": [],
   "source": []
  },
  {
   "cell_type": "code",
   "execution_count": null,
   "id": "a2178b1e",
   "metadata": {},
   "outputs": [],
   "source": []
  },
  {
   "cell_type": "code",
   "execution_count": null,
   "id": "d29e3aeb",
   "metadata": {},
   "outputs": [],
   "source": []
  },
  {
   "cell_type": "code",
   "execution_count": null,
   "id": "7e7a151c",
   "metadata": {},
   "outputs": [],
   "source": []
  },
  {
   "cell_type": "code",
   "execution_count": null,
   "id": "1b6c467f",
   "metadata": {},
   "outputs": [],
   "source": []
  },
  {
   "cell_type": "code",
   "execution_count": null,
   "id": "3c1da122",
   "metadata": {},
   "outputs": [],
   "source": []
  },
  {
   "cell_type": "code",
   "execution_count": null,
   "id": "ea34f387",
   "metadata": {},
   "outputs": [],
   "source": []
  },
  {
   "cell_type": "code",
   "execution_count": null,
   "id": "e8734afd",
   "metadata": {},
   "outputs": [],
   "source": []
  },
  {
   "cell_type": "code",
   "execution_count": null,
   "id": "d743cfbf",
   "metadata": {},
   "outputs": [],
   "source": []
  },
  {
   "cell_type": "code",
   "execution_count": null,
   "id": "b08d1491",
   "metadata": {},
   "outputs": [],
   "source": []
  },
  {
   "cell_type": "code",
   "execution_count": null,
   "id": "1396abe7",
   "metadata": {},
   "outputs": [],
   "source": []
  },
  {
   "cell_type": "code",
   "execution_count": null,
   "id": "167d51e6",
   "metadata": {},
   "outputs": [],
   "source": []
  },
  {
   "cell_type": "code",
   "execution_count": null,
   "id": "78597caa",
   "metadata": {},
   "outputs": [],
   "source": []
  },
  {
   "cell_type": "code",
   "execution_count": null,
   "id": "28ab96bb",
   "metadata": {},
   "outputs": [],
   "source": []
  },
  {
   "cell_type": "code",
   "execution_count": null,
   "id": "2a26c9dd",
   "metadata": {},
   "outputs": [],
   "source": []
  },
  {
   "cell_type": "code",
   "execution_count": null,
   "id": "257826c7",
   "metadata": {},
   "outputs": [],
   "source": []
  },
  {
   "cell_type": "code",
   "execution_count": null,
   "id": "cc51756f",
   "metadata": {},
   "outputs": [],
   "source": []
  },
  {
   "cell_type": "code",
   "execution_count": null,
   "id": "0ce31674",
   "metadata": {},
   "outputs": [],
   "source": []
  },
  {
   "cell_type": "code",
   "execution_count": null,
   "id": "48ac2c48",
   "metadata": {},
   "outputs": [],
   "source": []
  },
  {
   "cell_type": "code",
   "execution_count": null,
   "id": "546ec3d5",
   "metadata": {},
   "outputs": [],
   "source": []
  }
 ],
 "metadata": {
  "kernelspec": {
   "display_name": "Python 3",
   "language": "python",
   "name": "python3"
  },
  "language_info": {
   "codemirror_mode": {
    "name": "ipython",
    "version": 3
   },
   "file_extension": ".py",
   "mimetype": "text/x-python",
   "name": "python",
   "nbconvert_exporter": "python",
   "pygments_lexer": "ipython3",
   "version": "3.8.8"
  }
 },
 "nbformat": 4,
 "nbformat_minor": 5
}
